{
 "cells": [
  {
   "cell_type": "code",
   "execution_count": 1,
   "id": "55e3d24c",
   "metadata": {},
   "outputs": [],
   "source": [
    "#importing the libraries\n",
    "import pandas as pd\n",
    "\n",
    "import pandas_datareader.data as web\n",
    "from datetime import datetime"
   ]
  },
  {
   "cell_type": "code",
   "execution_count": 2,
   "id": "60d0361e",
   "metadata": {},
   "outputs": [],
   "source": [
    "#reading the data\n",
    "df = web.DataReader('NG=F', 'yahoo', start=datetime(2000, 8, 30), end=datetime.today())"
   ]
  },
  {
   "cell_type": "code",
   "execution_count": 3,
   "id": "48eb930b",
   "metadata": {},
   "outputs": [
    {
     "data": {
      "text/html": [
       "<div>\n",
       "<style scoped>\n",
       "    .dataframe tbody tr th:only-of-type {\n",
       "        vertical-align: middle;\n",
       "    }\n",
       "\n",
       "    .dataframe tbody tr th {\n",
       "        vertical-align: top;\n",
       "    }\n",
       "\n",
       "    .dataframe thead th {\n",
       "        text-align: right;\n",
       "    }\n",
       "</style>\n",
       "<table border=\"1\" class=\"dataframe\">\n",
       "  <thead>\n",
       "    <tr style=\"text-align: right;\">\n",
       "      <th></th>\n",
       "      <th>High</th>\n",
       "      <th>Low</th>\n",
       "      <th>Open</th>\n",
       "      <th>Close</th>\n",
       "      <th>Volume</th>\n",
       "      <th>Adj Close</th>\n",
       "    </tr>\n",
       "    <tr>\n",
       "      <th>Date</th>\n",
       "      <th></th>\n",
       "      <th></th>\n",
       "      <th></th>\n",
       "      <th></th>\n",
       "      <th></th>\n",
       "      <th></th>\n",
       "    </tr>\n",
       "  </thead>\n",
       "  <tbody>\n",
       "    <tr>\n",
       "      <th>2000-08-30</th>\n",
       "      <td>4.815</td>\n",
       "      <td>4.63</td>\n",
       "      <td>4.65</td>\n",
       "      <td>4.805</td>\n",
       "      <td>34954.0</td>\n",
       "      <td>4.805</td>\n",
       "    </tr>\n",
       "    <tr>\n",
       "      <th>2000-08-31</th>\n",
       "      <td>4.870</td>\n",
       "      <td>4.74</td>\n",
       "      <td>4.82</td>\n",
       "      <td>4.780</td>\n",
       "      <td>25787.0</td>\n",
       "      <td>4.780</td>\n",
       "    </tr>\n",
       "    <tr>\n",
       "      <th>2000-09-01</th>\n",
       "      <td>4.860</td>\n",
       "      <td>4.75</td>\n",
       "      <td>4.75</td>\n",
       "      <td>4.835</td>\n",
       "      <td>113.0</td>\n",
       "      <td>4.835</td>\n",
       "    </tr>\n",
       "    <tr>\n",
       "      <th>2000-09-05</th>\n",
       "      <td>4.975</td>\n",
       "      <td>4.84</td>\n",
       "      <td>4.85</td>\n",
       "      <td>4.960</td>\n",
       "      <td>26096.0</td>\n",
       "      <td>4.960</td>\n",
       "    </tr>\n",
       "    <tr>\n",
       "      <th>2000-09-06</th>\n",
       "      <td>5.110</td>\n",
       "      <td>4.96</td>\n",
       "      <td>4.99</td>\n",
       "      <td>5.065</td>\n",
       "      <td>32764.0</td>\n",
       "      <td>5.065</td>\n",
       "    </tr>\n",
       "  </tbody>\n",
       "</table>\n",
       "</div>"
      ],
      "text/plain": [
       "             High   Low  Open  Close   Volume  Adj Close\n",
       "Date                                                    \n",
       "2000-08-30  4.815  4.63  4.65  4.805  34954.0      4.805\n",
       "2000-08-31  4.870  4.74  4.82  4.780  25787.0      4.780\n",
       "2000-09-01  4.860  4.75  4.75  4.835    113.0      4.835\n",
       "2000-09-05  4.975  4.84  4.85  4.960  26096.0      4.960\n",
       "2000-09-06  5.110  4.96  4.99  5.065  32764.0      5.065"
      ]
     },
     "execution_count": 3,
     "metadata": {},
     "output_type": "execute_result"
    }
   ],
   "source": [
    "df.head()"
   ]
  },
  {
   "cell_type": "code",
   "execution_count": 4,
   "id": "35e21ba5",
   "metadata": {},
   "outputs": [],
   "source": [
    "#saving the complete data\n",
    "df.to_csv(\"dataset/ngp.csv\")"
   ]
  },
  {
   "cell_type": "markdown",
   "id": "5eaf4e50",
   "metadata": {},
   "source": [
    "### Past 10 years data"
   ]
  },
  {
   "cell_type": "code",
   "execution_count": 13,
   "id": "f082e15c",
   "metadata": {},
   "outputs": [],
   "source": [
    "past_10 = datetime(2010,1, 1)"
   ]
  },
  {
   "cell_type": "code",
   "execution_count": 14,
   "id": "c69388d5",
   "metadata": {},
   "outputs": [],
   "source": [
    "df_10 = df[past_10:]"
   ]
  },
  {
   "cell_type": "code",
   "execution_count": 15,
   "id": "a1729ad5",
   "metadata": {},
   "outputs": [
    {
     "data": {
      "text/plain": [
       "(3184, 6)"
      ]
     },
     "execution_count": 15,
     "metadata": {},
     "output_type": "execute_result"
    }
   ],
   "source": [
    "df_10.shape"
   ]
  },
  {
   "cell_type": "code",
   "execution_count": 16,
   "id": "59b9bf60",
   "metadata": {},
   "outputs": [],
   "source": [
    "df_10.to_csv(\"dataset/ngp_10.csv\")"
   ]
  },
  {
   "cell_type": "markdown",
   "id": "a435c46d",
   "metadata": {},
   "source": [
    "### Past 5 years data"
   ]
  },
  {
   "cell_type": "code",
   "execution_count": 9,
   "id": "e8373fd7",
   "metadata": {},
   "outputs": [],
   "source": [
    "past_5 = datetime(2016,1,1)"
   ]
  },
  {
   "cell_type": "code",
   "execution_count": 10,
   "id": "f7fd61f7",
   "metadata": {},
   "outputs": [],
   "source": [
    "df_5 = df[past_5:]"
   ]
  },
  {
   "cell_type": "code",
   "execution_count": 11,
   "id": "c19129f5",
   "metadata": {},
   "outputs": [
    {
     "data": {
      "text/plain": [
       "(1674, 6)"
      ]
     },
     "execution_count": 11,
     "metadata": {},
     "output_type": "execute_result"
    }
   ],
   "source": [
    "df_5.shape"
   ]
  },
  {
   "cell_type": "code",
   "execution_count": 12,
   "id": "51b7e8a0",
   "metadata": {},
   "outputs": [],
   "source": [
    "df_5.to_csv(\"dataset/ngp_5.csv\")"
   ]
  },
  {
   "cell_type": "markdown",
   "id": "03a1e31b",
   "metadata": {},
   "source": [
    "## Test Data"
   ]
  },
  {
   "cell_type": "code",
   "execution_count": 17,
   "id": "c0181782",
   "metadata": {},
   "outputs": [],
   "source": [
    "test_val_data = web.DataReader('NG=F', 'yahoo', start=datetime(2021, 1, 1), end=datetime.today())"
   ]
  },
  {
   "cell_type": "code",
   "execution_count": 18,
   "id": "fed4cdd0",
   "metadata": {},
   "outputs": [],
   "source": [
    "val_test_len = len(test)//2"
   ]
  },
  {
   "cell_type": "code",
   "execution_count": 21,
   "id": "81afd452",
   "metadata": {},
   "outputs": [
    {
     "data": {
      "text/html": [
       "<div>\n",
       "<style scoped>\n",
       "    .dataframe tbody tr th:only-of-type {\n",
       "        vertical-align: middle;\n",
       "    }\n",
       "\n",
       "    .dataframe tbody tr th {\n",
       "        vertical-align: top;\n",
       "    }\n",
       "\n",
       "    .dataframe thead th {\n",
       "        text-align: right;\n",
       "    }\n",
       "</style>\n",
       "<table border=\"1\" class=\"dataframe\">\n",
       "  <thead>\n",
       "    <tr style=\"text-align: right;\">\n",
       "      <th></th>\n",
       "      <th>High</th>\n",
       "      <th>Low</th>\n",
       "      <th>Open</th>\n",
       "      <th>Close</th>\n",
       "      <th>Volume</th>\n",
       "      <th>Adj Close</th>\n",
       "    </tr>\n",
       "    <tr>\n",
       "      <th>Date</th>\n",
       "      <th></th>\n",
       "      <th></th>\n",
       "      <th></th>\n",
       "      <th></th>\n",
       "      <th></th>\n",
       "      <th></th>\n",
       "    </tr>\n",
       "  </thead>\n",
       "  <tbody>\n",
       "    <tr>\n",
       "      <th>2020-12-31</th>\n",
       "      <td>2.547</td>\n",
       "      <td>2.429</td>\n",
       "      <td>2.433</td>\n",
       "      <td>2.539</td>\n",
       "      <td>111108.0</td>\n",
       "      <td>2.539</td>\n",
       "    </tr>\n",
       "    <tr>\n",
       "      <th>2021-01-04</th>\n",
       "      <td>2.670</td>\n",
       "      <td>2.566</td>\n",
       "      <td>2.626</td>\n",
       "      <td>2.581</td>\n",
       "      <td>128377.0</td>\n",
       "      <td>2.581</td>\n",
       "    </tr>\n",
       "    <tr>\n",
       "      <th>2021-01-05</th>\n",
       "      <td>2.732</td>\n",
       "      <td>2.591</td>\n",
       "      <td>2.599</td>\n",
       "      <td>2.702</td>\n",
       "      <td>149828.0</td>\n",
       "      <td>2.702</td>\n",
       "    </tr>\n",
       "    <tr>\n",
       "      <th>2021-01-06</th>\n",
       "      <td>2.770</td>\n",
       "      <td>2.606</td>\n",
       "      <td>2.688</td>\n",
       "      <td>2.716</td>\n",
       "      <td>144690.0</td>\n",
       "      <td>2.716</td>\n",
       "    </tr>\n",
       "    <tr>\n",
       "      <th>2021-01-07</th>\n",
       "      <td>2.755</td>\n",
       "      <td>2.663</td>\n",
       "      <td>2.722</td>\n",
       "      <td>2.729</td>\n",
       "      <td>135480.0</td>\n",
       "      <td>2.729</td>\n",
       "    </tr>\n",
       "    <tr>\n",
       "      <th>...</th>\n",
       "      <td>...</td>\n",
       "      <td>...</td>\n",
       "      <td>...</td>\n",
       "      <td>...</td>\n",
       "      <td>...</td>\n",
       "      <td>...</td>\n",
       "    </tr>\n",
       "    <tr>\n",
       "      <th>2022-08-19</th>\n",
       "      <td>9.395</td>\n",
       "      <td>8.870</td>\n",
       "      <td>9.201</td>\n",
       "      <td>9.336</td>\n",
       "      <td>69809.0</td>\n",
       "      <td>9.336</td>\n",
       "    </tr>\n",
       "    <tr>\n",
       "      <th>2022-08-22</th>\n",
       "      <td>9.982</td>\n",
       "      <td>9.158</td>\n",
       "      <td>9.174</td>\n",
       "      <td>9.680</td>\n",
       "      <td>92412.0</td>\n",
       "      <td>9.680</td>\n",
       "    </tr>\n",
       "    <tr>\n",
       "      <th>2022-08-23</th>\n",
       "      <td>10.028</td>\n",
       "      <td>9.050</td>\n",
       "      <td>9.817</td>\n",
       "      <td>9.193</td>\n",
       "      <td>118634.0</td>\n",
       "      <td>9.193</td>\n",
       "    </tr>\n",
       "    <tr>\n",
       "      <th>2022-08-24</th>\n",
       "      <td>9.455</td>\n",
       "      <td>9.100</td>\n",
       "      <td>9.250</td>\n",
       "      <td>9.330</td>\n",
       "      <td>118634.0</td>\n",
       "      <td>9.330</td>\n",
       "    </tr>\n",
       "    <tr>\n",
       "      <th>2022-08-25</th>\n",
       "      <td>9.379</td>\n",
       "      <td>9.211</td>\n",
       "      <td>9.239</td>\n",
       "      <td>9.347</td>\n",
       "      <td>2088.0</td>\n",
       "      <td>9.347</td>\n",
       "    </tr>\n",
       "  </tbody>\n",
       "</table>\n",
       "<p>418 rows × 6 columns</p>\n",
       "</div>"
      ],
      "text/plain": [
       "              High    Low   Open  Close    Volume  Adj Close\n",
       "Date                                                        \n",
       "2020-12-31   2.547  2.429  2.433  2.539  111108.0      2.539\n",
       "2021-01-04   2.670  2.566  2.626  2.581  128377.0      2.581\n",
       "2021-01-05   2.732  2.591  2.599  2.702  149828.0      2.702\n",
       "2021-01-06   2.770  2.606  2.688  2.716  144690.0      2.716\n",
       "2021-01-07   2.755  2.663  2.722  2.729  135480.0      2.729\n",
       "...            ...    ...    ...    ...       ...        ...\n",
       "2022-08-19   9.395  8.870  9.201  9.336   69809.0      9.336\n",
       "2022-08-22   9.982  9.158  9.174  9.680   92412.0      9.680\n",
       "2022-08-23  10.028  9.050  9.817  9.193  118634.0      9.193\n",
       "2022-08-24   9.455  9.100  9.250  9.330  118634.0      9.330\n",
       "2022-08-25   9.379  9.211  9.239  9.347    2088.0      9.347\n",
       "\n",
       "[418 rows x 6 columns]"
      ]
     },
     "execution_count": 21,
     "metadata": {},
     "output_type": "execute_result"
    }
   ],
   "source": [
    "test_val_data"
   ]
  },
  {
   "cell_type": "code",
   "execution_count": 19,
   "id": "ff379ffb",
   "metadata": {},
   "outputs": [],
   "source": [
    "val_data = test_val_data[:val_test_len]"
   ]
  },
  {
   "cell_type": "code",
   "execution_count": 20,
   "id": "4663e76f",
   "metadata": {},
   "outputs": [],
   "source": [
    "test_data = test_val_data[val_test_len:]"
   ]
  },
  {
   "cell_type": "code",
   "execution_count": 25,
   "id": "14cbb48a",
   "metadata": {},
   "outputs": [],
   "source": [
    "val_data.to_csv(\"dataset/ngp_val.csv\")\n",
    "test_data.to_csv(\"dataset/ngp_test.csv\")"
   ]
  }
 ],
 "metadata": {
  "kernelspec": {
   "display_name": "Python 3 (ipykernel)",
   "language": "python",
   "name": "python3"
  },
  "language_info": {
   "codemirror_mode": {
    "name": "ipython",
    "version": 3
   },
   "file_extension": ".py",
   "mimetype": "text/x-python",
   "name": "python",
   "nbconvert_exporter": "python",
   "pygments_lexer": "ipython3",
   "version": "3.9.12"
  }
 },
 "nbformat": 4,
 "nbformat_minor": 5
}

{
 "cells": [
  {
   "cell_type": "code",
   "execution_count": 1,
   "id": "0f32dc9b",
   "metadata": {},
   "outputs": [],
   "source": [
    "import numpy as np\n",
    "import pandas as pd\n",
    "\n",
    "from datetime import datetime, timedelta\n",
    "\n",
    "import matplotlib.pyplot as plt\n",
    "\n",
    "from sklearn.preprocessing import StandardScaler\n",
    "from sklearn.metrics import mean_squared_error, r2_score\n",
    "\n",
    "from sklearn.ensemble import RandomForestRegressor\n",
    "\n",
    "import plotly.express as px\n",
    "import plotly.graph_objects as go\n",
    "\n",
    "from warnings import filterwarnings\n",
    "filterwarnings('ignore')"
   ]
  },
  {
   "cell_type": "code",
   "execution_count": 2,
   "id": "0c83600a",
   "metadata": {},
   "outputs": [],
   "source": [
    "df = pd.read_csv(\"dataset/ngp.csv\")"
   ]
  },
  {
   "cell_type": "code",
   "execution_count": 3,
   "id": "76add571",
   "metadata": {},
   "outputs": [],
   "source": [
    "dateRange = pd.DataFrame(pd.date_range(start='2000-08-30',end='2020-12-31'),columns=[\"all_dates\"])"
   ]
  },
  {
   "cell_type": "code",
   "execution_count": 4,
   "id": "6a6088a1",
   "metadata": {},
   "outputs": [],
   "source": [
    "df['Date'] = pd.to_datetime(df['Date'])"
   ]
  },
  {
   "cell_type": "code",
   "execution_count": 5,
   "id": "8717f67b",
   "metadata": {},
   "outputs": [],
   "source": [
    "data = df[[\"Date\", \"Close\"]]"
   ]
  },
  {
   "cell_type": "code",
   "execution_count": 6,
   "id": "993f8895",
   "metadata": {},
   "outputs": [],
   "source": [
    "def date_decomposition(data_frame, date_col):\n",
    "    data_frame = data_frame.copy()\n",
    "    \n",
    "    data_frame['day_of_week'] = data_frame[date_col].apply(lambda x: x.day_of_week)\n",
    "    data_frame['month'] = data_frame[date_col].apply(lambda x: x.month)\n",
    "    data_frame['year'] = data_frame[date_col].apply(lambda x: x.year)\n",
    "    data_frame['day'] = data_frame[date_col].apply(lambda x: x.day)\n",
    "    \n",
    "    return data_frame   "
   ]
  },
  {
   "cell_type": "code",
   "execution_count": 7,
   "id": "1b44d8b5",
   "metadata": {},
   "outputs": [],
   "source": [
    "data = date_decomposition(data, 'Date')"
   ]
  },
  {
   "cell_type": "code",
   "execution_count": 8,
   "id": "cb6f31d5",
   "metadata": {},
   "outputs": [],
   "source": [
    "data = data.set_index('Date')"
   ]
  },
  {
   "cell_type": "code",
   "execution_count": 9,
   "id": "8c320ad7",
   "metadata": {},
   "outputs": [
    {
     "data": {
      "text/html": [
       "<div>\n",
       "<style scoped>\n",
       "    .dataframe tbody tr th:only-of-type {\n",
       "        vertical-align: middle;\n",
       "    }\n",
       "\n",
       "    .dataframe tbody tr th {\n",
       "        vertical-align: top;\n",
       "    }\n",
       "\n",
       "    .dataframe thead th {\n",
       "        text-align: right;\n",
       "    }\n",
       "</style>\n",
       "<table border=\"1\" class=\"dataframe\">\n",
       "  <thead>\n",
       "    <tr style=\"text-align: right;\">\n",
       "      <th></th>\n",
       "      <th>Close</th>\n",
       "      <th>day_of_week</th>\n",
       "      <th>month</th>\n",
       "      <th>year</th>\n",
       "      <th>day</th>\n",
       "    </tr>\n",
       "    <tr>\n",
       "      <th>Date</th>\n",
       "      <th></th>\n",
       "      <th></th>\n",
       "      <th></th>\n",
       "      <th></th>\n",
       "      <th></th>\n",
       "    </tr>\n",
       "  </thead>\n",
       "  <tbody>\n",
       "    <tr>\n",
       "      <th>2000-08-30</th>\n",
       "      <td>4.805</td>\n",
       "      <td>2</td>\n",
       "      <td>8</td>\n",
       "      <td>2000</td>\n",
       "      <td>30</td>\n",
       "    </tr>\n",
       "    <tr>\n",
       "      <th>2000-08-31</th>\n",
       "      <td>4.780</td>\n",
       "      <td>3</td>\n",
       "      <td>8</td>\n",
       "      <td>2000</td>\n",
       "      <td>31</td>\n",
       "    </tr>\n",
       "    <tr>\n",
       "      <th>2000-09-01</th>\n",
       "      <td>4.835</td>\n",
       "      <td>4</td>\n",
       "      <td>9</td>\n",
       "      <td>2000</td>\n",
       "      <td>1</td>\n",
       "    </tr>\n",
       "    <tr>\n",
       "      <th>2000-09-05</th>\n",
       "      <td>4.960</td>\n",
       "      <td>1</td>\n",
       "      <td>9</td>\n",
       "      <td>2000</td>\n",
       "      <td>5</td>\n",
       "    </tr>\n",
       "    <tr>\n",
       "      <th>2000-09-06</th>\n",
       "      <td>5.065</td>\n",
       "      <td>2</td>\n",
       "      <td>9</td>\n",
       "      <td>2000</td>\n",
       "      <td>6</td>\n",
       "    </tr>\n",
       "  </tbody>\n",
       "</table>\n",
       "</div>"
      ],
      "text/plain": [
       "            Close  day_of_week  month  year  day\n",
       "Date                                            \n",
       "2000-08-30  4.805            2      8  2000   30\n",
       "2000-08-31  4.780            3      8  2000   31\n",
       "2000-09-01  4.835            4      9  2000    1\n",
       "2000-09-05  4.960            1      9  2000    5\n",
       "2000-09-06  5.065            2      9  2000    6"
      ]
     },
     "execution_count": 9,
     "metadata": {},
     "output_type": "execute_result"
    }
   ],
   "source": [
    "data.head()"
   ]
  },
  {
   "cell_type": "code",
   "execution_count": 10,
   "id": "4b444392",
   "metadata": {},
   "outputs": [],
   "source": [
    "#taking log of the close price\n",
    "data['Close'] = np.log(data['Close'])"
   ]
  },
  {
   "cell_type": "code",
   "execution_count": 11,
   "id": "71bf3882",
   "metadata": {},
   "outputs": [],
   "source": [
    "train_end = datetime(2020, 12, 31)"
   ]
  },
  {
   "cell_type": "code",
   "execution_count": 12,
   "id": "d92a9cd3",
   "metadata": {},
   "outputs": [],
   "source": [
    "train_data = data[:train_end]\n",
    "val_test_data = data[train_end+timedelta(1):]"
   ]
  },
  {
   "cell_type": "code",
   "execution_count": 13,
   "id": "fe7ecc3f",
   "metadata": {},
   "outputs": [],
   "source": [
    "val_test_len = val_test_data.shape[0]//2"
   ]
  },
  {
   "cell_type": "code",
   "execution_count": 14,
   "id": "94189187",
   "metadata": {},
   "outputs": [],
   "source": [
    "val_test_data = val_test_data.reset_index()\n",
    "val_test_data.index = list(val_test_data.index)"
   ]
  },
  {
   "cell_type": "code",
   "execution_count": 15,
   "id": "5f706c26",
   "metadata": {},
   "outputs": [],
   "source": [
    "val_data= val_test_data[:val_test_len]\n",
    "test_data = val_test_data[val_test_len:]"
   ]
  },
  {
   "cell_type": "code",
   "execution_count": 16,
   "id": "5a478a12",
   "metadata": {},
   "outputs": [],
   "source": [
    "train_data = train_data.reset_index()"
   ]
  },
  {
   "cell_type": "code",
   "execution_count": 17,
   "id": "eb920c0e",
   "metadata": {},
   "outputs": [
    {
     "data": {
      "text/plain": [
       "(7429, 5106)"
      ]
     },
     "execution_count": 17,
     "metadata": {},
     "output_type": "execute_result"
    }
   ],
   "source": [
    "len(dateRange), len(train_data)"
   ]
  },
  {
   "cell_type": "code",
   "execution_count": 18,
   "id": "50959629",
   "metadata": {},
   "outputs": [],
   "source": [
    "train_data = pd.merge(dateRange,train_data,how='left',left_on=\"all_dates\",right_on=\"Date\")"
   ]
  },
  {
   "cell_type": "code",
   "execution_count": 19,
   "id": "cee976df",
   "metadata": {},
   "outputs": [],
   "source": [
    "train_data.drop(\"Date\",axis=1,inplace=True)"
   ]
  },
  {
   "cell_type": "code",
   "execution_count": 20,
   "id": "cf196aa0",
   "metadata": {},
   "outputs": [
    {
     "data": {
      "text/html": [
       "<div>\n",
       "<style scoped>\n",
       "    .dataframe tbody tr th:only-of-type {\n",
       "        vertical-align: middle;\n",
       "    }\n",
       "\n",
       "    .dataframe tbody tr th {\n",
       "        vertical-align: top;\n",
       "    }\n",
       "\n",
       "    .dataframe thead th {\n",
       "        text-align: right;\n",
       "    }\n",
       "</style>\n",
       "<table border=\"1\" class=\"dataframe\">\n",
       "  <thead>\n",
       "    <tr style=\"text-align: right;\">\n",
       "      <th></th>\n",
       "      <th>all_dates</th>\n",
       "      <th>Close</th>\n",
       "      <th>day_of_week</th>\n",
       "      <th>month</th>\n",
       "      <th>year</th>\n",
       "      <th>day</th>\n",
       "    </tr>\n",
       "  </thead>\n",
       "  <tbody>\n",
       "    <tr>\n",
       "      <th>0</th>\n",
       "      <td>2000-08-30</td>\n",
       "      <td>1.569657</td>\n",
       "      <td>2.0</td>\n",
       "      <td>8.0</td>\n",
       "      <td>2000.0</td>\n",
       "      <td>30.0</td>\n",
       "    </tr>\n",
       "    <tr>\n",
       "      <th>1</th>\n",
       "      <td>2000-08-31</td>\n",
       "      <td>1.564441</td>\n",
       "      <td>3.0</td>\n",
       "      <td>8.0</td>\n",
       "      <td>2000.0</td>\n",
       "      <td>31.0</td>\n",
       "    </tr>\n",
       "    <tr>\n",
       "      <th>2</th>\n",
       "      <td>2000-09-01</td>\n",
       "      <td>1.575881</td>\n",
       "      <td>4.0</td>\n",
       "      <td>9.0</td>\n",
       "      <td>2000.0</td>\n",
       "      <td>1.0</td>\n",
       "    </tr>\n",
       "    <tr>\n",
       "      <th>3</th>\n",
       "      <td>2000-09-02</td>\n",
       "      <td>NaN</td>\n",
       "      <td>NaN</td>\n",
       "      <td>NaN</td>\n",
       "      <td>NaN</td>\n",
       "      <td>NaN</td>\n",
       "    </tr>\n",
       "    <tr>\n",
       "      <th>4</th>\n",
       "      <td>2000-09-03</td>\n",
       "      <td>NaN</td>\n",
       "      <td>NaN</td>\n",
       "      <td>NaN</td>\n",
       "      <td>NaN</td>\n",
       "      <td>NaN</td>\n",
       "    </tr>\n",
       "  </tbody>\n",
       "</table>\n",
       "</div>"
      ],
      "text/plain": [
       "   all_dates     Close  day_of_week  month    year   day\n",
       "0 2000-08-30  1.569657          2.0    8.0  2000.0  30.0\n",
       "1 2000-08-31  1.564441          3.0    8.0  2000.0  31.0\n",
       "2 2000-09-01  1.575881          4.0    9.0  2000.0   1.0\n",
       "3 2000-09-02       NaN          NaN    NaN     NaN   NaN\n",
       "4 2000-09-03       NaN          NaN    NaN     NaN   NaN"
      ]
     },
     "execution_count": 20,
     "metadata": {},
     "output_type": "execute_result"
    }
   ],
   "source": [
    "train_data.head(5)"
   ]
  },
  {
   "cell_type": "code",
   "execution_count": 21,
   "id": "95ab06a1",
   "metadata": {},
   "outputs": [],
   "source": [
    "train_data = date_decomposition(train_data, 'all_dates')"
   ]
  },
  {
   "cell_type": "code",
   "execution_count": 22,
   "id": "38098e1e",
   "metadata": {
    "scrolled": true
   },
   "outputs": [
    {
     "data": {
      "text/html": [
       "<div>\n",
       "<style scoped>\n",
       "    .dataframe tbody tr th:only-of-type {\n",
       "        vertical-align: middle;\n",
       "    }\n",
       "\n",
       "    .dataframe tbody tr th {\n",
       "        vertical-align: top;\n",
       "    }\n",
       "\n",
       "    .dataframe thead th {\n",
       "        text-align: right;\n",
       "    }\n",
       "</style>\n",
       "<table border=\"1\" class=\"dataframe\">\n",
       "  <thead>\n",
       "    <tr style=\"text-align: right;\">\n",
       "      <th></th>\n",
       "      <th>all_dates</th>\n",
       "      <th>Close</th>\n",
       "      <th>day_of_week</th>\n",
       "      <th>month</th>\n",
       "      <th>year</th>\n",
       "      <th>day</th>\n",
       "    </tr>\n",
       "  </thead>\n",
       "  <tbody>\n",
       "    <tr>\n",
       "      <th>0</th>\n",
       "      <td>2000-08-30</td>\n",
       "      <td>1.569657</td>\n",
       "      <td>2</td>\n",
       "      <td>8</td>\n",
       "      <td>2000</td>\n",
       "      <td>30</td>\n",
       "    </tr>\n",
       "    <tr>\n",
       "      <th>1</th>\n",
       "      <td>2000-08-31</td>\n",
       "      <td>1.564441</td>\n",
       "      <td>3</td>\n",
       "      <td>8</td>\n",
       "      <td>2000</td>\n",
       "      <td>31</td>\n",
       "    </tr>\n",
       "    <tr>\n",
       "      <th>2</th>\n",
       "      <td>2000-09-01</td>\n",
       "      <td>1.575881</td>\n",
       "      <td>4</td>\n",
       "      <td>9</td>\n",
       "      <td>2000</td>\n",
       "      <td>1</td>\n",
       "    </tr>\n",
       "    <tr>\n",
       "      <th>3</th>\n",
       "      <td>2000-09-02</td>\n",
       "      <td>NaN</td>\n",
       "      <td>5</td>\n",
       "      <td>9</td>\n",
       "      <td>2000</td>\n",
       "      <td>2</td>\n",
       "    </tr>\n",
       "    <tr>\n",
       "      <th>4</th>\n",
       "      <td>2000-09-03</td>\n",
       "      <td>NaN</td>\n",
       "      <td>6</td>\n",
       "      <td>9</td>\n",
       "      <td>2000</td>\n",
       "      <td>3</td>\n",
       "    </tr>\n",
       "  </tbody>\n",
       "</table>\n",
       "</div>"
      ],
      "text/plain": [
       "   all_dates     Close  day_of_week  month  year  day\n",
       "0 2000-08-30  1.569657            2      8  2000   30\n",
       "1 2000-08-31  1.564441            3      8  2000   31\n",
       "2 2000-09-01  1.575881            4      9  2000    1\n",
       "3 2000-09-02       NaN            5      9  2000    2\n",
       "4 2000-09-03       NaN            6      9  2000    3"
      ]
     },
     "execution_count": 22,
     "metadata": {},
     "output_type": "execute_result"
    }
   ],
   "source": [
    "train_data.head()"
   ]
  },
  {
   "cell_type": "code",
   "execution_count": 23,
   "id": "b57a42b4",
   "metadata": {},
   "outputs": [],
   "source": [
    "train_data.rename(columns={'all_dates':'Date'}, inplace=True)"
   ]
  },
  {
   "cell_type": "code",
   "execution_count": 24,
   "id": "ad6a1203",
   "metadata": {},
   "outputs": [],
   "source": [
    "def get_scores(model, train, val_set, test_set):\n",
    "    X_train = train.drop(['Date', 'Close'], axis=1)\n",
    "    y_train = train['Close']\n",
    "    \n",
    "    X_val = val_set.drop(['Date', 'Close'], axis=1)\n",
    "    y_val = val_set['Close']\n",
    "    \n",
    "    X_test = test_set.drop(['Date', 'Close'], axis=1)\n",
    "    y_test = test_set['Close']\n",
    "    \n",
    "    model.fit(X_train, y_train)\n",
    "    y_train_pred = model.predict(X_train)\n",
    "    y_val_pred = model.predict(X_val)\n",
    "    y_test_pred = model.predict(X_test)\n",
    "    \n",
    "    train_mse = mean_squared_error(y_train, y_train_pred)\n",
    "    val_mse = mean_squared_error(y_val, y_val_pred)\n",
    "    test_mse = mean_squared_error(y_test, y_test_pred)\n",
    "    \n",
    "    train_rmse = np.sqrt(train_mse)\n",
    "    val_rmse = np.sqrt(val_mse)\n",
    "    test_rmse = np.sqrt(test_mse)\n",
    "    \n",
    "    train_r2 = r2_score(y_train, y_train_pred)\n",
    "    val_r2 = r2_score(y_val, y_val_pred)\n",
    "    test_r2 = r2_score(y_test, y_test_pred)\n",
    "    \n",
    "    print(f\"Train MSE={train_mse}, Train RMSE={train_rmse}\")\n",
    "    print(f\"Val MSE={val_mse}, Val RMSE={val_rmse}\")\n",
    "    print(f\"Test MSE={test_mse}, Train RMSE={test_rmse}\")\n",
    "    print('#'*50)\n",
    "    print(f\"Train R2 Score={train_r2}\")\n",
    "    print(f\"Val R2 Score={val_r2}\")\n",
    "    print(f\"Test R2 Score={test_r2}\")"
   ]
  },
  {
   "cell_type": "markdown",
   "id": "1a0d39be",
   "metadata": {},
   "source": [
    "## Rolling Mean Imputation"
   ]
  },
  {
   "cell_type": "code",
   "execution_count": 25,
   "id": "f17c1b10",
   "metadata": {},
   "outputs": [],
   "source": [
    "def moving_avg(series, window):\n",
    "    series = list(series)\n",
    "    \n",
    "    rolling_mean=list(series[:window])\n",
    "    \n",
    "    out = list(series[:window])\n",
    "    \n",
    "    for i in range(window,len(series)-1):\n",
    "    \n",
    "        mean = np.mean(rolling_mean)          \n",
    "\n",
    "        if np.isnan(series[i]):\n",
    "            rolling_mean.append(mean)\n",
    "            \n",
    "        else:\n",
    "            rolling_mean.append(series[i])\n",
    "            \n",
    "        rolling_mean = rolling_mean[1:]\n",
    "        \n",
    "        \n",
    "        \n",
    "        out.append(mean)\n",
    "        \n",
    "    out.append(np.mean(rolling_mean))\n",
    "    \n",
    "    return np.array(out)    "
   ]
  },
  {
   "cell_type": "code",
   "execution_count": 26,
   "id": "5fa1934b",
   "metadata": {},
   "outputs": [],
   "source": [
    "rolling_mean_close = pd.DataFrame(moving_avg(train_data[\"Close\"],3),columns=[\"rolling\"])"
   ]
  },
  {
   "cell_type": "code",
   "execution_count": 27,
   "id": "86309109",
   "metadata": {},
   "outputs": [
    {
     "data": {
      "text/html": [
       "<div>\n",
       "<style scoped>\n",
       "    .dataframe tbody tr th:only-of-type {\n",
       "        vertical-align: middle;\n",
       "    }\n",
       "\n",
       "    .dataframe tbody tr th {\n",
       "        vertical-align: top;\n",
       "    }\n",
       "\n",
       "    .dataframe thead th {\n",
       "        text-align: right;\n",
       "    }\n",
       "</style>\n",
       "<table border=\"1\" class=\"dataframe\">\n",
       "  <thead>\n",
       "    <tr style=\"text-align: right;\">\n",
       "      <th></th>\n",
       "      <th>rolling</th>\n",
       "    </tr>\n",
       "  </thead>\n",
       "  <tbody>\n",
       "    <tr>\n",
       "      <th>0</th>\n",
       "      <td>1.569657</td>\n",
       "    </tr>\n",
       "    <tr>\n",
       "      <th>1</th>\n",
       "      <td>1.564441</td>\n",
       "    </tr>\n",
       "    <tr>\n",
       "      <th>2</th>\n",
       "      <td>1.575881</td>\n",
       "    </tr>\n",
       "    <tr>\n",
       "      <th>3</th>\n",
       "      <td>1.569993</td>\n",
       "    </tr>\n",
       "    <tr>\n",
       "      <th>4</th>\n",
       "      <td>1.570105</td>\n",
       "    </tr>\n",
       "  </tbody>\n",
       "</table>\n",
       "</div>"
      ],
      "text/plain": [
       "    rolling\n",
       "0  1.569657\n",
       "1  1.564441\n",
       "2  1.575881\n",
       "3  1.569993\n",
       "4  1.570105"
      ]
     },
     "execution_count": 27,
     "metadata": {},
     "output_type": "execute_result"
    }
   ],
   "source": [
    "rolling_mean_close.head()"
   ]
  },
  {
   "cell_type": "code",
   "execution_count": 28,
   "id": "1353d1d2",
   "metadata": {},
   "outputs": [
    {
     "data": {
      "text/plain": [
       "(7429, 7429)"
      ]
     },
     "execution_count": 28,
     "metadata": {},
     "output_type": "execute_result"
    }
   ],
   "source": [
    "len(rolling_mean_close), len(train_data[\"Close\"])"
   ]
  },
  {
   "cell_type": "code",
   "execution_count": 29,
   "id": "fe62b21a",
   "metadata": {},
   "outputs": [],
   "source": [
    "close_val = train_data[\"Close\"].values\n",
    "rolling_val = rolling_mean_close.values"
   ]
  },
  {
   "cell_type": "markdown",
   "id": "2e1986d7",
   "metadata": {},
   "source": [
    "## Rolling Mean Imputation"
   ]
  },
  {
   "cell_type": "code",
   "execution_count": 30,
   "id": "fb3aeba1",
   "metadata": {},
   "outputs": [],
   "source": [
    "for i in range(len(close_val)):\n",
    "    if np.isnan(close_val[i]):\n",
    "        close_val[i]= rolling_val[i]"
   ]
  },
  {
   "cell_type": "code",
   "execution_count": 31,
   "id": "401c5af9",
   "metadata": {},
   "outputs": [],
   "source": [
    "train_data[\"Close\"] = rolling_val"
   ]
  },
  {
   "cell_type": "code",
   "execution_count": 33,
   "id": "3f9cab4e",
   "metadata": {},
   "outputs": [],
   "source": [
    "train_data[[\"Date\", \"Close\"]].to_csv(\"dataset/rolling_mean_imputed.csv\", index=False)"
   ]
  },
  {
   "cell_type": "code",
   "execution_count": 34,
   "id": "09398ef3",
   "metadata": {},
   "outputs": [],
   "source": [
    "rf = RandomForestRegressor(n_jobs=-1)"
   ]
  },
  {
   "cell_type": "code",
   "execution_count": 35,
   "id": "980dd55f",
   "metadata": {},
   "outputs": [
    {
     "name": "stdout",
     "output_type": "stream",
     "text": [
      "Train MSE=4.5552366394300445e-05, Train RMSE=0.006749249320798606\n",
      "Val MSE=0.3461483896758579, Val RMSE=0.5883437682816551\n",
      "Test MSE=1.2939251817059934, Train RMSE=1.1375083215985689\n",
      "##################################################\n",
      "Train R2 Score=0.9997781973034777\n",
      "Val R2 Score=-3.9682738725965354\n",
      "Test R2 Score=-14.046665792519613\n"
     ]
    }
   ],
   "source": [
    "get_scores(rf, train_data, val_data, test_data)"
   ]
  },
  {
   "cell_type": "markdown",
   "id": "815f09be",
   "metadata": {},
   "source": [
    "## KNN Imputation"
   ]
  },
  {
   "cell_type": "code",
   "execution_count": 37,
   "id": "d095369d",
   "metadata": {},
   "outputs": [],
   "source": [
    "from sklearn.impute import KNNImputer"
   ]
  },
  {
   "cell_type": "code",
   "execution_count": 38,
   "id": "01f750db",
   "metadata": {},
   "outputs": [],
   "source": [
    "X_train = train_data.drop(['Date', 'Close'], axis=1)\n",
    "y_train = train_data['Close']"
   ]
  },
  {
   "cell_type": "code",
   "execution_count": 39,
   "id": "444690d6",
   "metadata": {},
   "outputs": [],
   "source": [
    "imputer = KNNImputer()"
   ]
  },
  {
   "cell_type": "code",
   "execution_count": 43,
   "id": "12dd9caf",
   "metadata": {},
   "outputs": [],
   "source": [
    "y_train_imputed = imputer.fit_transform(y_train.values.reshape(-1,1), X_train)"
   ]
  },
  {
   "cell_type": "code",
   "execution_count": 44,
   "id": "4f981ab2",
   "metadata": {},
   "outputs": [],
   "source": [
    "imputed_train = train_data.copy()"
   ]
  },
  {
   "cell_type": "code",
   "execution_count": 45,
   "id": "718dfc97",
   "metadata": {},
   "outputs": [],
   "source": [
    "imputed_train['Close'] = y_train_imputed"
   ]
  },
  {
   "cell_type": "code",
   "execution_count": 46,
   "id": "a8cb865c",
   "metadata": {},
   "outputs": [],
   "source": [
    "rf = RandomForestRegressor(n_jobs=-1)"
   ]
  },
  {
   "cell_type": "code",
   "execution_count": 47,
   "id": "d19f874b",
   "metadata": {},
   "outputs": [
    {
     "name": "stdout",
     "output_type": "stream",
     "text": [
      "Train MSE=4.640857867072009e-05, Train RMSE=0.006812384213380811\n",
      "Val MSE=0.34546179362501955, Val RMSE=0.587759979604787\n",
      "Test MSE=1.292624068551646, Train RMSE=1.136936264067448\n",
      "##################################################\n",
      "Train R2 Score=0.9997740282513135\n",
      "Val R2 Score=-3.958419147507094\n",
      "Test R2 Score=-14.031535539960572\n"
     ]
    }
   ],
   "source": [
    "get_scores(rf, imputed_train, val_data, test_data)"
   ]
  },
  {
   "cell_type": "markdown",
   "id": "b00ba91a",
   "metadata": {},
   "source": [
    "### KNN imputer and rolling mean imputation both have given almost similar results"
   ]
  },
  {
   "cell_type": "code",
   "execution_count": null,
   "id": "0f09cc3d",
   "metadata": {},
   "outputs": [],
   "source": []
  }
 ],
 "metadata": {
  "kernelspec": {
   "display_name": "Python 3 (ipykernel)",
   "language": "python",
   "name": "python3"
  },
  "language_info": {
   "codemirror_mode": {
    "name": "ipython",
    "version": 3
   },
   "file_extension": ".py",
   "mimetype": "text/x-python",
   "name": "python",
   "nbconvert_exporter": "python",
   "pygments_lexer": "ipython3",
   "version": "3.9.12"
  }
 },
 "nbformat": 4,
 "nbformat_minor": 5
}

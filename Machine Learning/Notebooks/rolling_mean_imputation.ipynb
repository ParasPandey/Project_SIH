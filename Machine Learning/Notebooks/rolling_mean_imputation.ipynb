{
 "cells": [
  {
   "cell_type": "code",
   "execution_count": 33,
   "id": "0f32dc9b",
   "metadata": {},
   "outputs": [],
   "source": [
    "import numpy as np\n",
    "import pandas as pd\n",
    "\n",
    "from datetime import datetime, timedelta\n",
    "\n",
    "from sklearn.metrics import mean_squared_error\n",
    "\n",
    "from sklearn.ensemble import RandomForestRegressor\n",
    "\n",
    "from warnings import filterwarnings\n",
    "filterwarnings('ignore')"
   ]
  },
  {
   "cell_type": "code",
   "execution_count": 2,
   "id": "dec12f10",
   "metadata": {},
   "outputs": [],
   "source": [
    "df = pd.read_csv(\"dataset/ngp.csv\")"
   ]
  },
  {
   "cell_type": "code",
   "execution_count": 3,
   "id": "76add571",
   "metadata": {},
   "outputs": [],
   "source": [
    "dateRange = pd.DataFrame(pd.date_range(start='2000-08-30',end='2020-12-31'),columns=[\"All_date\"])"
   ]
  },
  {
   "cell_type": "code",
   "execution_count": 4,
   "id": "8d4aafb8",
   "metadata": {},
   "outputs": [],
   "source": [
    "df['Date'] = pd.to_datetime(df['Date'])"
   ]
  },
  {
   "cell_type": "code",
   "execution_count": 5,
   "id": "dd1ab9f9",
   "metadata": {},
   "outputs": [],
   "source": [
    "data = df[[\"Date\", \"Close\"]]"
   ]
  },
  {
   "cell_type": "code",
   "execution_count": 6,
   "id": "c8302f34",
   "metadata": {},
   "outputs": [],
   "source": [
    "data['day_of_week'] = data['Date'].apply(lambda x: x.day_of_week)\n",
    "data['month'] = data['Date'].apply(lambda x: x.month)\n",
    "data['year'] = data['Date'].apply(lambda x: x.year)\n",
    "data['day'] = data['Date'].apply(lambda x: x.day)"
   ]
  },
  {
   "cell_type": "code",
   "execution_count": 7,
   "id": "221ff864",
   "metadata": {},
   "outputs": [],
   "source": [
    "data = data.set_index('Date')"
   ]
  },
  {
   "cell_type": "code",
   "execution_count": 8,
   "id": "0b19332a",
   "metadata": {},
   "outputs": [
    {
     "data": {
      "text/html": [
       "<div>\n",
       "<style scoped>\n",
       "    .dataframe tbody tr th:only-of-type {\n",
       "        vertical-align: middle;\n",
       "    }\n",
       "\n",
       "    .dataframe tbody tr th {\n",
       "        vertical-align: top;\n",
       "    }\n",
       "\n",
       "    .dataframe thead th {\n",
       "        text-align: right;\n",
       "    }\n",
       "</style>\n",
       "<table border=\"1\" class=\"dataframe\">\n",
       "  <thead>\n",
       "    <tr style=\"text-align: right;\">\n",
       "      <th></th>\n",
       "      <th>Close</th>\n",
       "      <th>day_of_week</th>\n",
       "      <th>month</th>\n",
       "      <th>year</th>\n",
       "      <th>day</th>\n",
       "    </tr>\n",
       "    <tr>\n",
       "      <th>Date</th>\n",
       "      <th></th>\n",
       "      <th></th>\n",
       "      <th></th>\n",
       "      <th></th>\n",
       "      <th></th>\n",
       "    </tr>\n",
       "  </thead>\n",
       "  <tbody>\n",
       "    <tr>\n",
       "      <th>2000-08-30</th>\n",
       "      <td>4.805</td>\n",
       "      <td>2</td>\n",
       "      <td>8</td>\n",
       "      <td>2000</td>\n",
       "      <td>30</td>\n",
       "    </tr>\n",
       "    <tr>\n",
       "      <th>2000-08-31</th>\n",
       "      <td>4.780</td>\n",
       "      <td>3</td>\n",
       "      <td>8</td>\n",
       "      <td>2000</td>\n",
       "      <td>31</td>\n",
       "    </tr>\n",
       "    <tr>\n",
       "      <th>2000-09-01</th>\n",
       "      <td>4.835</td>\n",
       "      <td>4</td>\n",
       "      <td>9</td>\n",
       "      <td>2000</td>\n",
       "      <td>1</td>\n",
       "    </tr>\n",
       "    <tr>\n",
       "      <th>2000-09-05</th>\n",
       "      <td>4.960</td>\n",
       "      <td>1</td>\n",
       "      <td>9</td>\n",
       "      <td>2000</td>\n",
       "      <td>5</td>\n",
       "    </tr>\n",
       "    <tr>\n",
       "      <th>2000-09-06</th>\n",
       "      <td>5.065</td>\n",
       "      <td>2</td>\n",
       "      <td>9</td>\n",
       "      <td>2000</td>\n",
       "      <td>6</td>\n",
       "    </tr>\n",
       "  </tbody>\n",
       "</table>\n",
       "</div>"
      ],
      "text/plain": [
       "            Close  day_of_week  month  year  day\n",
       "Date                                            \n",
       "2000-08-30  4.805            2      8  2000   30\n",
       "2000-08-31  4.780            3      8  2000   31\n",
       "2000-09-01  4.835            4      9  2000    1\n",
       "2000-09-05  4.960            1      9  2000    5\n",
       "2000-09-06  5.065            2      9  2000    6"
      ]
     },
     "execution_count": 8,
     "metadata": {},
     "output_type": "execute_result"
    }
   ],
   "source": [
    "data.head()"
   ]
  },
  {
   "cell_type": "code",
   "execution_count": 9,
   "id": "680c497c",
   "metadata": {},
   "outputs": [],
   "source": [
    "train_end = datetime(2020, 12, 31)"
   ]
  },
  {
   "cell_type": "code",
   "execution_count": 10,
   "id": "3e7bb12c",
   "metadata": {},
   "outputs": [],
   "source": [
    "train_data = data[:train_end]\n",
    "val_test_data = data[train_end+timedelta(1):]"
   ]
  },
  {
   "cell_type": "code",
   "execution_count": 11,
   "id": "58b47ed4",
   "metadata": {},
   "outputs": [],
   "source": [
    "val_test_len = val_test_data.shape[0]//2"
   ]
  },
  {
   "cell_type": "code",
   "execution_count": 12,
   "id": "f385bf89",
   "metadata": {},
   "outputs": [],
   "source": [
    "val_test_data = val_test_data.reset_index()\n",
    "val_test_data.index = list(val_test_data.index)"
   ]
  },
  {
   "cell_type": "code",
   "execution_count": 13,
   "id": "9b66eda5",
   "metadata": {},
   "outputs": [],
   "source": [
    "val_data= val_test_data[:val_test_len]\n",
    "test_data = val_test_data[val_test_len:]"
   ]
  },
  {
   "cell_type": "code",
   "execution_count": 14,
   "id": "6db9c8d0",
   "metadata": {},
   "outputs": [],
   "source": [
    "train_data = train_data.reset_index()"
   ]
  },
  {
   "cell_type": "code",
   "execution_count": 15,
   "id": "eb920c0e",
   "metadata": {},
   "outputs": [
    {
     "data": {
      "text/plain": [
       "(7429, 5106)"
      ]
     },
     "execution_count": 15,
     "metadata": {},
     "output_type": "execute_result"
    }
   ],
   "source": [
    "len(dateRange), len(train_data)"
   ]
  },
  {
   "cell_type": "code",
   "execution_count": 16,
   "id": "50959629",
   "metadata": {},
   "outputs": [],
   "source": [
    "new_df= pd.merge(dateRange,train_data,how='left',left_on=\"All_date\",right_on=\"Date\")"
   ]
  },
  {
   "cell_type": "code",
   "execution_count": 17,
   "id": "cee976df",
   "metadata": {},
   "outputs": [],
   "source": [
    "new_df.drop(\"Date\",axis=1,inplace=True)"
   ]
  },
  {
   "cell_type": "code",
   "execution_count": 18,
   "id": "cf196aa0",
   "metadata": {},
   "outputs": [
    {
     "data": {
      "text/html": [
       "<div>\n",
       "<style scoped>\n",
       "    .dataframe tbody tr th:only-of-type {\n",
       "        vertical-align: middle;\n",
       "    }\n",
       "\n",
       "    .dataframe tbody tr th {\n",
       "        vertical-align: top;\n",
       "    }\n",
       "\n",
       "    .dataframe thead th {\n",
       "        text-align: right;\n",
       "    }\n",
       "</style>\n",
       "<table border=\"1\" class=\"dataframe\">\n",
       "  <thead>\n",
       "    <tr style=\"text-align: right;\">\n",
       "      <th></th>\n",
       "      <th>All_date</th>\n",
       "      <th>Close</th>\n",
       "      <th>day_of_week</th>\n",
       "      <th>month</th>\n",
       "      <th>year</th>\n",
       "      <th>day</th>\n",
       "    </tr>\n",
       "  </thead>\n",
       "  <tbody>\n",
       "    <tr>\n",
       "      <th>0</th>\n",
       "      <td>2000-08-30</td>\n",
       "      <td>4.805</td>\n",
       "      <td>2.0</td>\n",
       "      <td>8.0</td>\n",
       "      <td>2000.0</td>\n",
       "      <td>30.0</td>\n",
       "    </tr>\n",
       "    <tr>\n",
       "      <th>1</th>\n",
       "      <td>2000-08-31</td>\n",
       "      <td>4.780</td>\n",
       "      <td>3.0</td>\n",
       "      <td>8.0</td>\n",
       "      <td>2000.0</td>\n",
       "      <td>31.0</td>\n",
       "    </tr>\n",
       "    <tr>\n",
       "      <th>2</th>\n",
       "      <td>2000-09-01</td>\n",
       "      <td>4.835</td>\n",
       "      <td>4.0</td>\n",
       "      <td>9.0</td>\n",
       "      <td>2000.0</td>\n",
       "      <td>1.0</td>\n",
       "    </tr>\n",
       "    <tr>\n",
       "      <th>3</th>\n",
       "      <td>2000-09-02</td>\n",
       "      <td>NaN</td>\n",
       "      <td>NaN</td>\n",
       "      <td>NaN</td>\n",
       "      <td>NaN</td>\n",
       "      <td>NaN</td>\n",
       "    </tr>\n",
       "    <tr>\n",
       "      <th>4</th>\n",
       "      <td>2000-09-03</td>\n",
       "      <td>NaN</td>\n",
       "      <td>NaN</td>\n",
       "      <td>NaN</td>\n",
       "      <td>NaN</td>\n",
       "      <td>NaN</td>\n",
       "    </tr>\n",
       "  </tbody>\n",
       "</table>\n",
       "</div>"
      ],
      "text/plain": [
       "    All_date  Close  day_of_week  month    year   day\n",
       "0 2000-08-30  4.805          2.0    8.0  2000.0  30.0\n",
       "1 2000-08-31  4.780          3.0    8.0  2000.0  31.0\n",
       "2 2000-09-01  4.835          4.0    9.0  2000.0   1.0\n",
       "3 2000-09-02    NaN          NaN    NaN     NaN   NaN\n",
       "4 2000-09-03    NaN          NaN    NaN     NaN   NaN"
      ]
     },
     "execution_count": 18,
     "metadata": {},
     "output_type": "execute_result"
    }
   ],
   "source": [
    "new_df.head(5)"
   ]
  },
  {
   "cell_type": "code",
   "execution_count": 19,
   "id": "f17c1b10",
   "metadata": {},
   "outputs": [],
   "source": [
    "def moving_avg(series, window):\n",
    "    series = list(series)\n",
    "    rolling_mean=list(series[:window])\n",
    "    out = list(series[:window])\n",
    "    for i in range(window,len(series)-1):\n",
    "    \n",
    "        mean = np.mean(rolling_mean)          \n",
    "\n",
    "        if np.isnan(series[i]):\n",
    "            \n",
    "            rolling_mean.append(mean)\n",
    "        else:\n",
    "            rolling_mean.append(series[i])\n",
    "        rolling_mean = rolling_mean[1:]\n",
    "        \n",
    "        \n",
    "        \n",
    "        out.append(mean)\n",
    "    out.append(np.mean(rolling_mean))\n",
    "    return np.array(out)\n",
    "        \n",
    "        "
   ]
  },
  {
   "cell_type": "code",
   "execution_count": 20,
   "id": "5fa1934b",
   "metadata": {},
   "outputs": [],
   "source": [
    "New_Close = pd.DataFrame(moving_avg(new_df[\"Close\"],3),columns=[\"rolling\"])"
   ]
  },
  {
   "cell_type": "code",
   "execution_count": 35,
   "id": "86309109",
   "metadata": {},
   "outputs": [
    {
     "data": {
      "text/html": [
       "<div>\n",
       "<style scoped>\n",
       "    .dataframe tbody tr th:only-of-type {\n",
       "        vertical-align: middle;\n",
       "    }\n",
       "\n",
       "    .dataframe tbody tr th {\n",
       "        vertical-align: top;\n",
       "    }\n",
       "\n",
       "    .dataframe thead th {\n",
       "        text-align: right;\n",
       "    }\n",
       "</style>\n",
       "<table border=\"1\" class=\"dataframe\">\n",
       "  <thead>\n",
       "    <tr style=\"text-align: right;\">\n",
       "      <th></th>\n",
       "      <th>rolling</th>\n",
       "    </tr>\n",
       "  </thead>\n",
       "  <tbody>\n",
       "    <tr>\n",
       "      <th>0</th>\n",
       "      <td>4.805000</td>\n",
       "    </tr>\n",
       "    <tr>\n",
       "      <th>1</th>\n",
       "      <td>4.780000</td>\n",
       "    </tr>\n",
       "    <tr>\n",
       "      <th>2</th>\n",
       "      <td>4.835000</td>\n",
       "    </tr>\n",
       "    <tr>\n",
       "      <th>3</th>\n",
       "      <td>4.806667</td>\n",
       "    </tr>\n",
       "    <tr>\n",
       "      <th>4</th>\n",
       "      <td>4.807222</td>\n",
       "    </tr>\n",
       "  </tbody>\n",
       "</table>\n",
       "</div>"
      ],
      "text/plain": [
       "    rolling\n",
       "0  4.805000\n",
       "1  4.780000\n",
       "2  4.835000\n",
       "3  4.806667\n",
       "4  4.807222"
      ]
     },
     "execution_count": 35,
     "metadata": {},
     "output_type": "execute_result"
    }
   ],
   "source": [
    "New_Close.head()"
   ]
  },
  {
   "cell_type": "code",
   "execution_count": 48,
   "id": "bfffec05",
   "metadata": {},
   "outputs": [
    {
     "ename": "NameError",
     "evalue": "name 'New_Close' is not defined",
     "output_type": "error",
     "traceback": [
      "\u001b[1;31m---------------------------------------------------------------------------\u001b[0m",
      "\u001b[1;31mNameError\u001b[0m                                 Traceback (most recent call last)",
      "Input \u001b[1;32mIn [48]\u001b[0m, in \u001b[0;36m<cell line: 1>\u001b[1;34m()\u001b[0m\n\u001b[1;32m----> 1\u001b[0m \u001b[43mNew_Close\u001b[49m\u001b[38;5;241m.\u001b[39minfo()\n",
      "\u001b[1;31mNameError\u001b[0m: name 'New_Close' is not defined"
     ]
    }
   ],
   "source": [
    "New_Close.info()"
   ]
  },
  {
   "cell_type": "code",
   "execution_count": 22,
   "id": "1353d1d2",
   "metadata": {},
   "outputs": [
    {
     "data": {
      "text/plain": [
       "7429"
      ]
     },
     "execution_count": 22,
     "metadata": {},
     "output_type": "execute_result"
    }
   ],
   "source": [
    "len(New_Close)"
   ]
  },
  {
   "cell_type": "code",
   "execution_count": 23,
   "id": "44bd5588",
   "metadata": {},
   "outputs": [
    {
     "data": {
      "text/plain": [
       "7429"
      ]
     },
     "execution_count": 23,
     "metadata": {},
     "output_type": "execute_result"
    }
   ],
   "source": [
    "len(new_df[\"Close\"])"
   ]
  },
  {
   "cell_type": "code",
   "execution_count": 24,
   "id": "b7cef331",
   "metadata": {},
   "outputs": [],
   "source": [
    "new_df2 = pd.concat([new_df,New_Close],axis=1)"
   ]
  },
  {
   "cell_type": "code",
   "execution_count": 25,
   "id": "fe62b21a",
   "metadata": {},
   "outputs": [],
   "source": [
    "Close_arr = np.array(new_df2[\"Close\"])\n",
    "rolling_arr = np.array(new_df2[\"rolling\"])"
   ]
  },
  {
   "cell_type": "code",
   "execution_count": 26,
   "id": "fb3aeba1",
   "metadata": {},
   "outputs": [],
   "source": [
    "for i in range(len(Close_arr)):\n",
    "    if np.isnan(Close_arr[i]):\n",
    "        Close_arr[i]= rolling_arr[i]"
   ]
  },
  {
   "cell_type": "code",
   "execution_count": 27,
   "id": "401c5af9",
   "metadata": {},
   "outputs": [],
   "source": [
    "new_df2[\"Close\"]= Close_arr"
   ]
  },
  {
   "cell_type": "code",
   "execution_count": 28,
   "id": "999d1e7d",
   "metadata": {},
   "outputs": [],
   "source": [
    "new_df2.drop(\"rolling\",axis=1,inplace=True)"
   ]
  },
  {
   "cell_type": "code",
   "execution_count": 29,
   "id": "ab966011",
   "metadata": {},
   "outputs": [],
   "source": [
    "def get_scores(model, train, val_set, test_set):\n",
    "    X_train = train.drop(['Date', 'Close'], axis=1)\n",
    "    y_train = train['Close']\n",
    "    \n",
    "    X_val = val_set.drop(['Date', 'Close'], axis=1)\n",
    "    y_val = val_set['Close']\n",
    "    \n",
    "    X_test = test_set.drop(['Date', 'Close'], axis=1)\n",
    "    y_test = test_set['Close']\n",
    "    \n",
    "    model.fit(X_train, y_train)\n",
    "    y_train_pred = model.predict(X_train)\n",
    "    y_val_pred = model.predict(X_val)\n",
    "    y_test_pred = model.predict(X_test)\n",
    "    \n",
    "    train_mse = mean_squared_error(y_train, y_train_pred)\n",
    "    val_mse = mean_squared_error(y_val, y_val_pred)\n",
    "    test_mse = mean_squared_error(y_test, y_test_pred)\n",
    "    \n",
    "    train_rmse = np.sqrt(train_mse)\n",
    "    val_rmse = np.sqrt(val_mse)\n",
    "    test_rmse = np.sqrt(test_mse)\n",
    "    \n",
    "    print(f\"Train MSE={train_mse}, Train RMSE={train_rmse}\")\n",
    "    print(f\"Val MSE={val_mse}, Val RMSE={val_rmse}\")\n",
    "    print(f\"Test MSE={test_mse}, Train RMSE={test_rmse}\")\n"
   ]
  },
  {
   "cell_type": "code",
   "execution_count": 31,
   "id": "b11fb450",
   "metadata": {},
   "outputs": [],
   "source": [
    "rf = RandomForestRegressor(n_jobs=-1)"
   ]
  },
  {
   "cell_type": "code",
   "execution_count": 34,
   "id": "980dd55f",
   "metadata": {},
   "outputs": [
    {
     "name": "stdout",
     "output_type": "stream",
     "text": [
      "Train MSE=0.004747573711840336, Train RMSE=0.06890263936773638\n",
      "Val MSE=3.0137288688828345, Val RMSE=1.736009466818322\n",
      "Test MSE=19.93360350781842, Train RMSE=4.46470643019431\n"
     ]
    }
   ],
   "source": [
    "get_scores(rf, train_data, val_data, test_data)"
   ]
  },
  {
   "cell_type": "code",
   "execution_count": null,
   "id": "35df59d1",
   "metadata": {},
   "outputs": [],
   "source": []
  }
 ],
 "metadata": {
  "kernelspec": {
   "display_name": "Python 3 (ipykernel)",
   "language": "python",
   "name": "python3"
  },
  "language_info": {
   "codemirror_mode": {
    "name": "ipython",
    "version": 3
   },
   "file_extension": ".py",
   "mimetype": "text/x-python",
   "name": "python",
   "nbconvert_exporter": "python",
   "pygments_lexer": "ipython3",
   "version": "3.9.12"
  }
 },
 "nbformat": 4,
 "nbformat_minor": 5
}
